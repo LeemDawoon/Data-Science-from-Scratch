{
 "cells": [
  {
   "cell_type": "code",
   "execution_count": null,
   "metadata": {
    "collapsed": true
   },
   "outputs": [],
   "source": [
    "#들여쓰기 생략\n",
    "\n",
    "#모듈**************************************************************\n",
    "\"\"\"\n",
    "파이썬에 기본적으로 포함된 몇몇 기능과 각자 다운받은 3rd 파티 패키지에 포함된 기능은 파이썬을 실행시킬 때 함께 실행되지 않는다.\n",
    "이를  사용하기 위해서는 모듈을 불러오는 import 를 사용해야 한다.\n",
    "\"\"\"\n",
    "import re as regex\n",
    "my_regex = regex.compile(\"[0-9]+\",regex.I)"
   ]
  },
  {
   "cell_type": "code",
   "execution_count": 1,
   "metadata": {
    "collapsed": true
   },
   "outputs": [],
   "source": [
    "\"\"\"\n",
    "모듈 하나에서 몇몇 특정 기능만 필요하다면, 전체 모듈을 불러오지 않고 해당 기능만 명시해서 불러올 수 있다.\n",
    "\"\"\"\n",
    "from collections import defaultdict, Counter\n",
    "lookup = defaultdict(int)\n",
    "my_counter = Counter()"
   ]
  },
  {
   "cell_type": "code",
   "execution_count": 2,
   "metadata": {},
   "outputs": [
    {
     "name": "stdout",
     "output_type": "stream",
     "text": [
      "<function match at 0x7fd4e83fb730>\n"
     ]
    }
   ],
   "source": [
    "\"\"\"\n",
    "모듈의 기능들을 통째로 불러와서 기존의 변수들을 덮어쓰는 것은 안 좋다.\n",
    "\"\"\"\n",
    "match = 10\n",
    "from re import * # re 에도 match 라는 함수가 존재한다.\n",
    "print (match)"
   ]
  },
  {
   "cell_type": "code",
   "execution_count": 4,
   "metadata": {},
   "outputs": [
    {
     "name": "stdout",
     "output_type": "stream",
     "text": [
      "2.5\n",
      "2\n"
     ]
    }
   ],
   "source": [
    "#연산**************************************************************\n",
    "print(5/2)  \n",
    "print(5//2)"
   ]
  },
  {
   "cell_type": "code",
   "execution_count": 6,
   "metadata": {},
   "outputs": [
    {
     "data": {
      "text/plain": [
       "2"
      ]
     },
     "execution_count": 6,
     "metadata": {},
     "output_type": "execute_result"
    }
   ],
   "source": [
    "#함수**************************************************************\n",
    "\n",
    "def double(x):\n",
    "    \"\"\"입력된 변수에 2를 곱한 값을 출력\"\"\"\n",
    "    return x * 2\n",
    "\n",
    "def apply_to_one(f):\n",
    "    \"\"\"인자가 1인 함수 f를 호출\"\"\"\n",
    "    return f(1)\n",
    "my_double = double    # 함수를 변수에 할당 - 일급함수의 특성\n",
    "x = apply_to_one(my_double) #2\n",
    "x"
   ]
  },
  {
   "cell_type": "code",
   "execution_count": 7,
   "metadata": {},
   "outputs": [
    {
     "data": {
      "text/plain": [
       "5"
      ]
     },
     "execution_count": 7,
     "metadata": {},
     "output_type": "execute_result"
    }
   ],
   "source": [
    "y = apply_to_one(lambda x: x + 4) # 짦은 익명의 람다함수\n",
    "y\n",
    "\"\"\"\n",
    "another_double = lambda x: 2 * x # 이밥업을 최대한 피하도록\n",
    "def another_double(x): return 2*x # 대신 이렇게 사용\n",
    "\"\"\""
   ]
  },
  {
   "cell_type": "code",
   "execution_count": 8,
   "metadata": {},
   "outputs": [
    {
     "name": "stdout",
     "output_type": "stream",
     "text": [
      "hello\n",
      "default msg\n"
     ]
    }
   ],
   "source": [
    "\"\"\"\n",
    "함수에 기본값 전달\n",
    "\"\"\"\n",
    "def my_print(msg=\"default msg\"):\n",
    "    print(msg)\n",
    "\n",
    "my_print(\"hello\")\n",
    "my_print()"
   ]
  },
  {
   "cell_type": "code",
   "execution_count": 9,
   "metadata": {},
   "outputs": [
    {
     "name": "stdout",
     "output_type": "stream",
     "text": [
      "5\n",
      "-5\n",
      "-5\n"
     ]
    }
   ],
   "source": [
    "def subtract(a=0, b=0):\n",
    "    return a - b\n",
    "\n",
    "print(subtract(10, 5))\n",
    "print(subtract(0, 5))\n",
    "print(subtract(b=5))"
   ]
  },
  {
   "cell_type": "code",
   "execution_count": 10,
   "metadata": {},
   "outputs": [
    {
     "name": "stdout",
     "output_type": "stream",
     "text": [
      "cannot divide by zero6\n"
     ]
    }
   ],
   "source": [
    "#문자열 생략\n",
    "\n",
    "#예외처리**************************************************************\n",
    "try:\n",
    "    print (0/0)\n",
    "except ZeroDivisionError as e:\n",
    "    print (e)\n",
    "    print (\"cannot divide by zero6\")"
   ]
  },
  {
   "cell_type": "code",
   "execution_count": 11,
   "metadata": {},
   "outputs": [
    {
     "name": "stdout",
     "output_type": "stream",
     "text": [
      "3\n",
      "6\n"
     ]
    }
   ],
   "source": [
    "# list **************************************************************\n",
    "integer_list = [1, 2, 3]\n",
    "heterogeneous_list = [\"string\", 0.1, True]\n",
    "list_of_lists = [integer_list, heterogeneous_list, []]\n",
    "\n",
    "list_length = len(integer_list)\n",
    "list_sum = sum(integer_list)\n",
    "\n",
    "print(list_length)\n",
    "print(list_sum)"
   ]
  },
  {
   "cell_type": "code",
   "execution_count": 13,
   "metadata": {},
   "outputs": [
    {
     "data": {
      "text/plain": [
       "range(0, 10)"
      ]
     },
     "execution_count": 13,
     "metadata": {},
     "output_type": "execute_result"
    }
   ],
   "source": [
    "x = range(10) #[0~9]\n",
    "x"
   ]
  },
  {
   "cell_type": "code",
   "execution_count": 18,
   "metadata": {
    "collapsed": true
   },
   "outputs": [],
   "source": [
    "zero = x[0]\n",
    "one = x[1]\n",
    "nine = x[-1] # 마지막\n",
    "eight = x[-2] # 뒤에서 2번째\n",
    "#x[0] = -1 파이썬 3에서는 안되나보다"
   ]
  },
  {
   "cell_type": "code",
   "execution_count": 21,
   "metadata": {},
   "outputs": [
    {
     "name": "stdout",
     "output_type": "stream",
     "text": [
      "range(0, 3)\n",
      "range(3, 10)\n",
      "range(1, 5)\n",
      "range(1, 9)\n",
      "range(0, 10)\n"
     ]
    }
   ],
   "source": [
    "first_three = x[:3]\n",
    "three_to_end = x[3:]\n",
    "one_to_for = x[1:5]\n",
    "#last_three = [-3:] 에러난다\n",
    "without_first_and_last = x[1:-1]\n",
    "copy_of_x = x[:]\n",
    "\n",
    "print(first_three)\n",
    "print(three_to_end)\n",
    "print(one_to_for)\n",
    "#print(last_three)\n",
    "print(without_first_and_last)\n",
    "print(copy_of_x)"
   ]
  },
  {
   "cell_type": "code",
   "execution_count": 22,
   "metadata": {},
   "outputs": [
    {
     "data": {
      "text/plain": [
       "True"
      ]
     },
     "execution_count": 22,
     "metadata": {},
     "output_type": "execute_result"
    }
   ],
   "source": [
    "1 in [1,2,3] # list 안에 항목이 존재하는가"
   ]
  },
  {
   "cell_type": "code",
   "execution_count": 23,
   "metadata": {},
   "outputs": [
    {
     "name": "stdout",
     "output_type": "stream",
     "text": [
      "[1, 2, 3, 4, 5, 6]\n"
     ]
    }
   ],
   "source": [
    "x = [1, 2, 3]\n",
    "y = x + [4, 5, 6]\n",
    "print(y)"
   ]
  },
  {
   "cell_type": "code",
   "execution_count": 27,
   "metadata": {},
   "outputs": [
    {
     "name": "stdout",
     "output_type": "stream",
     "text": [
      "[1, 2, 3, 0]\n",
      "0\n"
     ]
    }
   ],
   "source": [
    "x = [1, 2, 3]\n",
    "x.append(0)\n",
    "print(x)\n",
    "y = x[-1]\n",
    "print(y)"
   ]
  },
  {
   "cell_type": "code",
   "execution_count": 29,
   "metadata": {},
   "outputs": [
    {
     "name": "stdout",
     "output_type": "stream",
     "text": [
      "1\n",
      "2\n"
     ]
    }
   ],
   "source": [
    "x, y = [1, 2] # 양쪽 항목 개수가 다르면 에러 발생\n",
    "print(x)\n",
    "print(y)"
   ]
  },
  {
   "cell_type": "code",
   "execution_count": 30,
   "metadata": {
    "collapsed": true
   },
   "outputs": [],
   "source": [
    "_, y = [1, 2] # 버릴 항목은 밑줄"
   ]
  },
  {
   "cell_type": "code",
   "execution_count": 31,
   "metadata": {},
   "outputs": [
    {
     "name": "stdout",
     "output_type": "stream",
     "text": [
      "'tuple' object does not support item assignment\n"
     ]
    }
   ],
   "source": [
    "#  Tuple ***************************************************************\n",
    "\"\"\"\n",
    "튜플은 변경할 수 없는 리스트\n",
    "대괄호대신, 괄호를 사용해서 정의/혹은 아무런 기호 없이 정의\n",
    "\"\"\"\n",
    "my_list = [1,2]\n",
    "my_tuple = (1,2)\n",
    "other_tuple = 3, 4\n",
    "\n",
    "my_list[1] = 3 # 리스트 값변경\n",
    "try:\n",
    "    my_tuple[1] = 3\n",
    "except TypeError as e:\n",
    "    print(e)"
   ]
  },
  {
   "cell_type": "code",
   "execution_count": 32,
   "metadata": {},
   "outputs": [
    {
     "name": "stdout",
     "output_type": "stream",
     "text": [
      "(5, 6)\n",
      "5\n",
      "6\n"
     ]
    }
   ],
   "source": [
    "def sum_and_product(x, y):\n",
    "    return (x+y), (x*y)\n",
    "sp = sum_and_product(2, 3)\n",
    "s, p = sum_and_product(2, 3)\n",
    "print(sp)\n",
    "print(s)\n",
    "print(p)"
   ]
  },
  {
   "cell_type": "code",
   "execution_count": 33,
   "metadata": {},
   "outputs": [
    {
     "name": "stdout",
     "output_type": "stream",
     "text": [
      "1\n",
      "2\n",
      "2\n",
      "1\n"
     ]
    }
   ],
   "source": [
    "\"\"\"\n",
    "튜플과 리스트는 다중 할당을 지원한다.\n",
    "\"\"\"\n",
    "x, y = 1, 2\n",
    "print(x)\n",
    "print(y)\n",
    "x, y = y, x\n",
    "print(x)\n",
    "print(y)"
   ]
  },
  {
   "cell_type": "code",
   "execution_count": 38,
   "metadata": {},
   "outputs": [
    {
     "name": "stdout",
     "output_type": "stream",
     "text": [
      "80\n",
      "err\n"
     ]
    }
   ],
   "source": [
    "#  dict ***************************************************************\n",
    "\"\"\"\n",
    "키벨류\n",
    "\"\"\"\n",
    "empty_dict = {} # dict 생성\n",
    "grades = {\"Joel\": 80, \"Tim\":95}\n",
    "\n",
    "print(grades[\"Joel\"])\n",
    "\n",
    "\n",
    "try :\n",
    "    print(grades[\"Kate\"]) # 키없을 때 에러발생\n",
    "except KeyError as e:\n",
    "    print(\"err\")  "
   ]
  },
  {
   "cell_type": "code",
   "execution_count": 40,
   "metadata": {},
   "outputs": [
    {
     "name": "stdout",
     "output_type": "stream",
     "text": [
      "True\n",
      "False\n"
     ]
    }
   ],
   "source": [
    "print(\"Joel\" in grades) # 키값이 존재하는지 체크\n",
    "print(\"Kate\" in grades)"
   ]
  },
  {
   "cell_type": "code",
   "execution_count": 41,
   "metadata": {},
   "outputs": [
    {
     "name": "stdout",
     "output_type": "stream",
     "text": [
      "80\n",
      "0\n",
      "None\n"
     ]
    }
   ],
   "source": [
    "print(grades.get(\"Joel\", 0))\n",
    "print(grades.get(\"Kate\", 0)) # 에러발생 x , 기본값 반환\n",
    "print(grades.get(\"Kate\")) # 기본값 미입력시, None 반환"
   ]
  },
  {
   "cell_type": "code",
   "execution_count": 42,
   "metadata": {},
   "outputs": [
    {
     "data": {
      "text/plain": [
       "{'Joel': 80, 'Kate': 10, 'Tim': 95, 'Time': 99}"
      ]
     },
     "execution_count": 42,
     "metadata": {},
     "output_type": "execute_result"
    }
   ],
   "source": [
    "grades[\"Time\"] = 99 # 값 수정\n",
    "grades[\"Kate\"] = 10 # 키&값 추가\n",
    "grades"
   ]
  },
  {
   "cell_type": "code",
   "execution_count": 43,
   "metadata": {},
   "outputs": [
    {
     "name": "stdout",
     "output_type": "stream",
     "text": [
      "dict_keys(['user', 'text', 'retweet_count', 'hashtags'])\n",
      "dict_values(['joel', 'hahah', 100, ['#data', 'hello']])\n",
      "dict_items([('user', 'joel'), ('text', 'hahah'), ('retweet_count', 100), ('hashtags', ['#data', 'hello'])])\n",
      "True\n",
      "True\n"
     ]
    },
    {
     "data": {
      "text/plain": [
       "'\\ndict의 key는 수정할 수 없다.\\nlist를 key로 사용할 수 없다.\\n만약 다양한 값으로 구성된 key가 필요하다면 tuple이나 문자열을 key로 사용하라.\\n'"
      ]
     },
     "execution_count": 43,
     "metadata": {},
     "output_type": "execute_result"
    }
   ],
   "source": [
    "tweet = {\n",
    "    \"user\":\"joel\",\n",
    "    \"text\" : \"hahah\",\n",
    "    \"retweet_count\": 100,\n",
    "    \"hashtags\": [\"#data\",\"hello\"]\n",
    "}\n",
    "\n",
    "tweet_keys = tweet.keys()\n",
    "tweet_values = tweet.values()\n",
    "tweet_items = tweet.items()\n",
    "\n",
    "print(tweet_keys)\n",
    "print(tweet_values)\n",
    "print(tweet_items)\n",
    "print(\"hashtags\" in tweet)\n",
    "print(\"hahah\" in tweet_values )\n",
    "\n",
    "\"\"\"\n",
    "dict의 key는 수정할 수 없다.\n",
    "list를 key로 사용할 수 없다.\n",
    "만약 다양한 값으로 구성된 key가 필요하다면 tuple이나 문자열을 key로 사용하라.\n",
    "\"\"\""
   ]
  },
  {
   "cell_type": "code",
   "execution_count": 45,
   "metadata": {},
   "outputs": [
    {
     "data": {
      "text/plain": [
       "defaultdict(int, {'안녕': 1, '하이': 3, '헬로우': 1})"
      ]
     },
     "execution_count": 45,
     "metadata": {},
     "output_type": "execute_result"
    }
   ],
   "source": [
    "# defaultdict **************************************************************\n",
    "\"\"\"\n",
    "존재하지 않는 key 가 주어진다면, \n",
    "defaultdict은 이 key와 인자에서 주어진 값으로 dict에 새로운 항목을 추가해준다.\n",
    "\"\"\"\n",
    "from collections import defaultdict\n",
    "\n",
    "document = \"안녕 하이 헬로우 하이 하이\"\n",
    "document = document.split(\" \")\n",
    "word_counts = defaultdict(int) # int()는 0을 생성\n",
    "for word in document:\n",
    "    word_counts[word] +=1\n",
    "    \n",
    "word_counts    "
   ]
  },
  {
   "cell_type": "code",
   "execution_count": 46,
   "metadata": {},
   "outputs": [
    {
     "name": "stdout",
     "output_type": "stream",
     "text": [
      "defaultdict(<class 'list'>, {})\n",
      "defaultdict(<class 'list'>, {2: [1]})\n"
     ]
    }
   ],
   "source": [
    "dd_list = defaultdict(list) # list()는 빈 list를 생성\n",
    "print(dd_list)\n",
    "dd_list[2].append(1)\n",
    "print(dd_list)"
   ]
  },
  {
   "cell_type": "code",
   "execution_count": 47,
   "metadata": {},
   "outputs": [
    {
     "name": "stdout",
     "output_type": "stream",
     "text": [
      "defaultdict(<class 'dict'>, {})\n",
      "defaultdict(<class 'dict'>, {'Joel': {'City': 'Seattle'}})\n",
      "defaultdict(<function <lambda> at 0x7fd4dcacf950>, {})\n",
      "defaultdict(<function <lambda> at 0x7fd4dcacf950>, {2: [0, 1]})\n"
     ]
    }
   ],
   "source": [
    "dd_dict = defaultdict(dict) # dict() 빈 dict를 생성\n",
    "print(dd_dict)\n",
    "dd_dict[\"Joel\"][\"City\"] = \"Seattle\"\n",
    "print(dd_dict)\n",
    "\n",
    "dd_pair = defaultdict(lambda: [0,0])\n",
    "print(dd_pair)\n",
    "dd_pair[2][1] =1\n",
    "print(dd_pair)"
   ]
  },
  {
   "cell_type": "code",
   "execution_count": 1,
   "metadata": {},
   "outputs": [
    {
     "data": {
      "text/plain": [
       "Counter({0: 2, 1: 1, 2: 1})"
      ]
     },
     "execution_count": 1,
     "metadata": {},
     "output_type": "execute_result"
    }
   ],
   "source": [
    "# Counter **************************************************************\n",
    "\"\"\"\n",
    "Counter 는 연속된 값을 defaultdict(int)와 유사한 객체로 변환해 주며, key와 value의 빈도를 연결시켜준다.\n",
    "앞으로 히스토그램을 그릴떄 자주 사용할 것이다.\n",
    "\"\"\"\n",
    "from collections import Counter\n",
    "c = Counter([0,1,2,0])\n",
    "c"
   ]
  },
  {
   "cell_type": "code",
   "execution_count": 5,
   "metadata": {},
   "outputs": [
    {
     "data": {
      "text/plain": [
       "Counter({'개수를': 1, '단어의': 1, '때도': 1, '문서에서': 1, '셀': 1, '유용': 2, '틀정': 1})"
      ]
     },
     "execution_count": 5,
     "metadata": {},
     "output_type": "execute_result"
    }
   ],
   "source": [
    "document = \"틀정 문서에서 단어의 개수를 셀 때도 유용 유용\"\n",
    "document = document.split(\" \")\n",
    "word_counts = Counter(document)\n",
    "word_counts"
   ]
  },
  {
   "cell_type": "code",
   "execution_count": 6,
   "metadata": {},
   "outputs": [
    {
     "name": "stdout",
     "output_type": "stream",
     "text": [
      "유용 2\n",
      "틀정 1\n",
      "문서에서 1\n",
      "단어의 1\n",
      "개수를 1\n",
      "셀 1\n",
      "때도 1\n"
     ]
    }
   ],
   "source": [
    "for word, count in word_counts.most_common(10): # 가장 자주 나오는 단어 10개와 이 단어들의 빈도수를 출력\n",
    "    print(word, count)"
   ]
  },
  {
   "cell_type": "code",
   "execution_count": 9,
   "metadata": {},
   "outputs": [
    {
     "name": "stdout",
     "output_type": "stream",
     "text": [
      "set()\n",
      "{1}\n",
      "{1, 2}\n",
      "{1, 2}\n",
      "2\n",
      "True\n",
      "False\n"
     ]
    }
   ],
   "source": [
    "# set **************************************************************\n",
    "\"\"\"\n",
    "set은 파이썬 데이터 구조중 유일한 항목의 집합을 나타냄.\n",
    "set의 장점(set을 쓰는 이유)\n",
    "1. in 에서 set은 매우 빠름\n",
    "2. 중복 원소를 제거해줌\n",
    "\"\"\"\n",
    "s = set() \n",
    "print(s)\n",
    "s.add(1)\n",
    "print(s)\n",
    "s .add(2)\n",
    "print(s)\n",
    "s .add(2)\n",
    "print(s)\n",
    "print(len(s))\n",
    "print(2 in s)\n",
    "print(3 in s)"
   ]
  },
  {
   "cell_type": "code",
   "execution_count": 6,
   "metadata": {},
   "outputs": [
    {
     "name": "stdout",
     "output_type": "stream",
     "text": [
      "0  while\n",
      "1  while\n",
      "2  while\n",
      "3  while\n",
      "4  while\n",
      "5  while\n",
      "6  while\n",
      "7  while\n",
      "8  while\n",
      "9  while\n",
      "0  for\n",
      "1  for\n",
      "2  for\n",
      "3  for\n",
      "4  for\n",
      "5  for\n",
      "6  for\n",
      "7  for\n",
      "8  for\n",
      "9  for\n",
      "0  for2\n",
      "1  for2\n",
      "2  for2\n",
      "4  for2\n"
     ]
    }
   ],
   "source": [
    "# 흐름제어 **************************************************************\n",
    "# if \n",
    "if 1 > 2 :\n",
    "    msg=\"\"\n",
    "elif 1 > 3 :\n",
    "    msg=\"\"\n",
    "else :\n",
    "    msg=\"\"\n",
    "\n",
    "x = 40\n",
    "parity = \"even\" if x % 2 == 0 else \"odd\"\n",
    "\n",
    "# while\n",
    "x=0\n",
    "while x < 10 :\n",
    "    print (x, \" while\")\n",
    "    x +=1\n",
    "\n",
    "# for\n",
    "for x in range(10):\n",
    "    print (x, \" for\")\n",
    "    \n",
    "for x in range(10):\n",
    "    if x == 3:\n",
    "        continue # 다음번으로 반복\n",
    "    if x == 5:\n",
    "        break # 반복문 종료\n",
    "    print (x, \" for2\")    "
   ]
  },
  {
   "cell_type": "code",
   "execution_count": 10,
   "metadata": {},
   "outputs": [
    {
     "name": "stdout",
     "output_type": "stream",
     "text": [
      "True\n",
      "True\n",
      "False\n",
      "True\n",
      "False\n"
     ]
    }
   ],
   "source": [
    "# True, False **************************************************************\n",
    "x = None # None 은 파이썬의 null\n",
    "print (x is None)  #  True\n",
    "\n",
    "\"\"\"\n",
    "거짓인 값\n",
    "    False\n",
    "    None\n",
    "    []\n",
    "    {}\n",
    "    \"\"\n",
    "    set()\n",
    "    0\n",
    "    0.0\n",
    "\"\"\"\n",
    "\n",
    "# and or\n",
    "# all any\n",
    "print( all([True, 1, {3}]) ) #  True\n",
    "print( all([True, 1, {}]) )  # False\n",
    "print( any([True, 1, {}]) )  #  True\n",
    "print( all([False, 0, {}]) ) # False"
   ]
  }
 ],
 "metadata": {
  "kernelspec": {
   "display_name": "Python 3",
   "language": "python",
   "name": "python3"
  },
  "language_info": {
   "codemirror_mode": {
    "name": "ipython",
    "version": 3
   },
   "file_extension": ".py",
   "mimetype": "text/x-python",
   "name": "python",
   "nbconvert_exporter": "python",
   "pygments_lexer": "ipython3",
   "version": "3.6.1"
  }
 },
 "nbformat": 4,
 "nbformat_minor": 2
}
