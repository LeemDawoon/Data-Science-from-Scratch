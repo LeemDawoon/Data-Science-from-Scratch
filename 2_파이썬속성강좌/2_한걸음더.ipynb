{
 "cells": [
  {
   "cell_type": "code",
   "execution_count": 2,
   "metadata": {},
   "outputs": [
    {
     "name": "stdout",
     "output_type": "stream",
     "text": [
      "[4, 1, 2, 3] [1, 2, 3, 4]\n",
      "[1, 2, 3, 4]\n"
     ]
    }
   ],
   "source": [
    "#정렬**************************************************************\n",
    "x = [4, 1, 2, 3]\n",
    "y = sorted(x)\n",
    "print (x, y)\n",
    "\n",
    "x.sort()\n",
    "print (x)"
   ]
  },
  {
   "cell_type": "code",
   "execution_count": 5,
   "metadata": {},
   "outputs": [
    {
     "data": {
      "text/plain": [
       "[3, 2, 1, -4]"
      ]
     },
     "execution_count": 5,
     "metadata": {},
     "output_type": "execute_result"
    }
   ],
   "source": [
    "# 내림차순\n",
    "sorted( [-4, 1, 2, 3], reverse=True )"
   ]
  },
  {
   "cell_type": "code",
   "execution_count": 6,
   "metadata": {},
   "outputs": [
    {
     "data": {
      "text/plain": [
       "[-4, 3, 2, 1]"
      ]
     },
     "execution_count": 6,
     "metadata": {},
     "output_type": "execute_result"
    }
   ],
   "source": [
    "# 내림차순 & 절대값\n",
    "sorted( [-4, 1, 2, 3], key=abs, reverse=True )"
   ]
  },
  {
   "cell_type": "code",
   "execution_count": 14,
   "metadata": {},
   "outputs": [
    {
     "name": "stdout",
     "output_type": "stream",
     "text": [
      "dict_items([('빈도의', 1), ('내림차순으로', 1), ('단어와', 1), ('빈도를', 1), ('정렬', 2)])\n"
     ]
    }
   ],
   "source": [
    "# 빈도의 내림차순으로 단어와 빈도를 정렬\n",
    "\n",
    "document = \"빈도의 내림차순으로 단어와 빈도를 정렬 정렬\"\n",
    "document = document.split(\" \")\n",
    "from collections import Counter\n",
    "word_counts = Counter(document)\n",
    "print(word_counts.items())\n",
    "\n"
   ]
  },
  {
   "cell_type": "code",
   "execution_count": 21,
   "metadata": {},
   "outputs": [
    {
     "ename": "SyntaxError",
     "evalue": "invalid syntax (<ipython-input-21-5cee9bbf4d86>, line 3)",
     "output_type": "error",
     "traceback": [
      "\u001b[0;36m  File \u001b[0;32m\"<ipython-input-21-5cee9bbf4d86>\"\u001b[0;36m, line \u001b[0;32m3\u001b[0m\n\u001b[0;31m    key=lambda(word, count): count,\u001b[0m\n\u001b[0m              ^\u001b[0m\n\u001b[0;31mSyntaxError\u001b[0m\u001b[0;31m:\u001b[0m invalid syntax\n"
     ]
    }
   ],
   "source": [
    "wc = sorted(\n",
    "    word_counts.items(),\n",
    "    key=lambda(word, count): count,\n",
    "    reverse=True\n",
    ")\n",
    "wc"
   ]
  },
  {
   "cell_type": "code",
   "execution_count": 27,
   "metadata": {},
   "outputs": [
    {
     "name": "stdout",
     "output_type": "stream",
     "text": [
      "[0, 2, 4]\n",
      "[0, 1, 4, 9, 16]\n",
      "[0, 4, 16]\n"
     ]
    }
   ],
   "source": [
    "#List Comprehension **************************************************************\n",
    "\"\"\"\n",
    "기존 list에서 특정 항목을 선택하거나 변환시킨 결과를 새로운 list에 저장해야 하는 경우 사용\n",
    "\"\"\"\n",
    "even_numbers = [ x for x in range(5) if x % 2 == 0 ]\n",
    "print(even_numbers)\n",
    "squares = [x*x for x in range(5)]\n",
    "print(squares)\n",
    "even_squares = [x*x for x in even_numbers]\n",
    "print(even_squares)"
   ]
  },
  {
   "cell_type": "code",
   "execution_count": 29,
   "metadata": {},
   "outputs": [
    {
     "name": "stdout",
     "output_type": "stream",
     "text": [
      "{0: 0, 1: 1, 2: 4, 3: 9, 4: 16}\n",
      "{1, 4}\n"
     ]
    }
   ],
   "source": [
    "square_dict = {x:x*x for x in range(5) } # dict\n",
    "print(square_dict)\n",
    "square_set = {x*x for x in [1, -1, 2, -2]} # set\n",
    "print(square_set)"
   ]
  },
  {
   "cell_type": "code",
   "execution_count": 31,
   "metadata": {},
   "outputs": [
    {
     "data": {
      "text/plain": [
       "[0, 0, 0]"
      ]
     },
     "execution_count": 31,
     "metadata": {},
     "output_type": "execute_result"
    }
   ],
   "source": [
    "zeroes = [0 for _ in even_numbers] # even_numbers와 동일한 길이의 0 배열\n",
    "zeroes"
   ]
  },
  {
   "cell_type": "code",
   "execution_count": 39,
   "metadata": {},
   "outputs": [
    {
     "data": {
      "text/plain": [
       "[(0, 0),\n",
       " (0, 1),\n",
       " (0, 2),\n",
       " (0, 3),\n",
       " (1, 0),\n",
       " (1, 1),\n",
       " (1, 2),\n",
       " (1, 3),\n",
       " (2, 0),\n",
       " (2, 1),\n",
       " (2, 2),\n",
       " (2, 3),\n",
       " (3, 0),\n",
       " (3, 1),\n",
       " (3, 2),\n",
       " (3, 3)]"
      ]
     },
     "execution_count": 39,
     "metadata": {},
     "output_type": "execute_result"
    }
   ],
   "source": [
    "#여러 for 포함\n",
    "pairs = [(x, y)\n",
    "         for x in range(4)\n",
    "         for y in range(4) # 뒤에 나온 for는 앞에 나온 결과를 반복\n",
    "        ]\n",
    "pairs"
   ]
  },
  {
   "cell_type": "code",
   "execution_count": 38,
   "metadata": {},
   "outputs": [
    {
     "data": {
      "text/plain": [
       "[(0, 1), (0, 2), (0, 3), (1, 2), (1, 3), (2, 3)]"
      ]
     },
     "execution_count": 38,
     "metadata": {},
     "output_type": "execute_result"
    }
   ],
   "source": [
    "increasing_pairs = [(x, y)\n",
    "         for x in range(4)\n",
    "         for y in range(x+1, 4) # 뒤에 나온 for는 앞에 나온 결과를 반복\n",
    "        ]\n",
    "increasing_pairs"
   ]
  },
  {
   "cell_type": "code",
   "execution_count": null,
   "metadata": {
    "collapsed": true
   },
   "outputs": [],
   "source": [
    "# Generator & iterator **************************************************************\n",
    "\"\"\"\n",
    "Generator(생성자)는 주로 for문을 통해 반복할 수 있으며, generator의 각 항목은 필요한 순간에 그때그떄 생성된다.\n",
    "파이썬 3에서는 range 자체가 generator로 만들어져 있다.\n",
    "그래서 생략...\n",
    "\"\"\""
   ]
  },
  {
   "cell_type": "code",
   "execution_count": 40,
   "metadata": {},
   "outputs": [
    {
     "data": {
      "text/plain": [
       "[0.02208769031388258,\n",
       " 0.9453908414987531,\n",
       " 0.33868381526779556,\n",
       " 0.2875490807606007]"
      ]
     },
     "execution_count": 40,
     "metadata": {},
     "output_type": "execute_result"
    }
   ],
   "source": [
    "# 난수 생성 **************************************************************\n",
    "import random\n",
    "four_uniform_randoms = [random.random() for _ in range(4)] # random.random() 은 0~1 사이의 난수생성\n",
    "four_uniform_randoms"
   ]
  },
  {
   "cell_type": "code",
   "execution_count": 42,
   "metadata": {},
   "outputs": [
    {
     "name": "stdout",
     "output_type": "stream",
     "text": [
      "0.5714025946899135\n",
      "0.5714025946899135\n"
     ]
    }
   ],
   "source": [
    "# 고정된 난수 생성\n",
    "random.seed(10)\n",
    "print(random.random())\n",
    "random.seed(10)\n",
    "print(random.random())"
   ]
  },
  {
   "cell_type": "code",
   "execution_count": 44,
   "metadata": {},
   "outputs": [
    {
     "name": "stdout",
     "output_type": "stream",
     "text": [
      "6\n",
      "4\n"
     ]
    }
   ],
   "source": [
    "# randrange를 사용하면, range에 해당하는 구간에서 난수생성\n",
    "print(random.randrange(10))\n",
    "print(random.randrange(3,6))"
   ]
  },
  {
   "cell_type": "code",
   "execution_count": 51,
   "metadata": {},
   "outputs": [
    {
     "name": "stdout",
     "output_type": "stream",
     "text": [
      "[9, 5, 0, 7, 2, 1, 3, 8, 4, 6]\n"
     ]
    }
   ],
   "source": [
    "# shuffle: List 섞기\n",
    "up_to_ten = [0,1,2,3,4,5,6,7,8,9]\n",
    "random.shuffle( up_to_ten )\n",
    "print(up_to_ten)"
   ]
  },
  {
   "cell_type": "code",
   "execution_count": 53,
   "metadata": {},
   "outputs": [
    {
     "name": "stdout",
     "output_type": "stream",
     "text": [
      "B\n"
     ]
    }
   ],
   "source": [
    "# choice : List 에서 임의의 값 선택\n",
    "my_best_friend = random.choice([\"A\", \"B\", \"C\"])\n",
    "print( my_best_friend)"
   ]
  },
  {
   "cell_type": "code",
   "execution_count": 57,
   "metadata": {},
   "outputs": [
    {
     "name": "stdout",
     "output_type": "stream",
     "text": [
      "[54, 32, 10, 53, 14, 26]\n",
      "[15, 2, 2, 31, 19, 52]\n"
     ]
    }
   ],
   "source": [
    "# sample : List중복이 허용되지 않는 임의의 표본\n",
    "lottery_num = [x for x in range(60)]\n",
    "print(random.sample(lottery_num, 6))\n",
    "\n",
    "# cf) 중복이 허용되는 임의의 표본\n",
    "print([random.choice(lottery_num) for _ in range(6)])"
   ]
  },
  {
   "cell_type": "code",
   "execution_count": 59,
   "metadata": {},
   "outputs": [
    {
     "name": "stdout",
     "output_type": "stream",
     "text": [
      "True\n"
     ]
    }
   ],
   "source": [
    "# 정규표현식 **************************************************************\n",
    "import re\n",
    "print (all([ # 아래 모두 True\n",
    "    not re.match(\"a\", \"cat\"),  # cat은 a로 시작하지 않는다.\n",
    "    re.search(\"a\", \"cat\"), # cat에 a가 존재한다.\n",
    "    3 == len(re.split(\"[ab]\", \"carbs\")), # a, b 를 기준으로 나누면, [c,r,s]\n",
    "    \"R-D-\" == re.sub(\"[0-9]\", \"-\", \"R2D2\") # 숫자를 '-'로 대체\n",
    "]))"
   ]
  },
  {
   "cell_type": "code",
   "execution_count": 62,
   "metadata": {},
   "outputs": [
    {
     "name": "stdout",
     "output_type": "stream",
     "text": [
      "0 A\n",
      "1 B\n",
      "2 C\n"
     ]
    }
   ],
   "source": [
    "# enumerate **************************************************************\n",
    "# (인덱스,항목) 형태의 튜플 생성\n",
    "for i, v in enumerate([\"A\", \"B\", \"C\"]):\n",
    "    print(i, v)"
   ]
  },
  {
   "cell_type": "code",
   "execution_count": 67,
   "metadata": {},
   "outputs": [
    {
     "name": "stdout",
     "output_type": "stream",
     "text": [
      "a 1\n",
      "b 2\n",
      "c 3\n",
      "('a', 'b', 'c') (1, 2, 3)\n"
     ]
    }
   ],
   "source": [
    "# zip & argument unpacking(인자해체) **************************************************************\n",
    "list1 = ['a', 'b', 'c']\n",
    "list2 = [1, 2, 3]\n",
    "pairs = zip(list1, list2)\n",
    "for  x, y in zip(list1, list2):\n",
    "    print(x,y)\n",
    "\n",
    "letters, numbers = zip(*pairs) # *은 argument unpacking(인자해체) 연산자\n",
    "print(letters,numbers)"
   ]
  },
  {
   "cell_type": "code",
   "execution_count": 69,
   "metadata": {},
   "outputs": [
    {
     "name": "stdout",
     "output_type": "stream",
     "text": [
      "3\n",
      "3\n"
     ]
    }
   ],
   "source": [
    "# 위 방식의 인자 해체는 모든 함수에 적용가능\n",
    "def add(a,b): return a + b\n",
    "print(add(1,2))\n",
    "# print(add([1,2])) #<= 에러\n",
    "print(add(*[1,2]))\n"
   ]
  },
  {
   "cell_type": "code",
   "execution_count": 71,
   "metadata": {},
   "outputs": [
    {
     "name": "stdout",
     "output_type": "stream",
     "text": [
      "unnamed args: (1, 2)\n",
      "keyword args: {'a': '3', 'b': '4'}\n"
     ]
    }
   ],
   "source": [
    "# args & kwargs **************************************************************\n",
    "def magic(*args, **kwargs):\n",
    "    print(\"unnamed args:\", args)\n",
    "    print(\"keyword args:\", kwargs)\n",
    "    \n",
    "magic(1, 2, a=\"3\", b=\"4\")"
   ]
  },
  {
   "cell_type": "code",
   "execution_count": 72,
   "metadata": {},
   "outputs": [
    {
     "name": "stdout",
     "output_type": "stream",
     "text": [
      "6\n"
     ]
    }
   ],
   "source": [
    "def other_way_magic(x,y,z):\n",
    "    return x+y+z\n",
    "\n",
    "xy = [1,2]\n",
    "z = {\"z\":3}\n",
    "print (other_way_magic(*xy, **z))"
   ]
  },
  {
   "cell_type": "code",
   "execution_count": 73,
   "metadata": {},
   "outputs": [
    {
     "name": "stdout",
     "output_type": "stream",
     "text": [
      "6\n"
     ]
    }
   ],
   "source": [
    "#고차함수 만들때\n",
    "def f2(x,y): return x+y\n",
    "\n",
    "def doubler_correct(f):\n",
    "    \"\"\"f의 인자에 상관없이 작동\"\"\"\n",
    "    def g(*args, **kwargs):\n",
    "        \"\"\"g인자가 우엇이든간에 f로 보내줌\"\"\"\n",
    "        return 2*f(*args, **kwargs)\n",
    "    return g\n",
    "\n",
    "g = doubler_correct(f2)\n",
    "print (g(1,2))"
   ]
  }
 ],
 "metadata": {
  "kernelspec": {
   "display_name": "Python 3",
   "language": "python",
   "name": "python3"
  },
  "language_info": {
   "codemirror_mode": {
    "name": "ipython",
    "version": 3
   },
   "file_extension": ".py",
   "mimetype": "text/x-python",
   "name": "python",
   "nbconvert_exporter": "python",
   "pygments_lexer": "ipython3",
   "version": "3.6.1"
  }
 },
 "nbformat": 4,
 "nbformat_minor": 2
}
